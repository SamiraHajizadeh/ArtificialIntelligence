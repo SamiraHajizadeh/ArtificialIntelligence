{
 "cells": [
  {
   "cell_type": "markdown",
   "metadata": {},
   "source": [
    "# Artificial Intelligence - Project 1"
   ]
  },
  {
   "cell_type": "markdown",
   "metadata": {},
   "source": [
    "#### importing"
   ]
  },
  {
   "cell_type": "code",
   "execution_count": 104,
   "metadata": {},
   "outputs": [],
   "source": [
    "import pandas as pd\n",
    "import os\n",
    "import csv\n",
    "import numpy as np\n",
    "import time\n",
    "from collections import deque\n",
    "import bisect\n",
    "import math\n",
    "from statistics import mean"
   ]
  },
  {
   "cell_type": "markdown",
   "metadata": {},
   "source": [
    "#### reading the csv file"
   ]
  },
  {
   "cell_type": "code",
   "execution_count": 303,
   "metadata": {},
   "outputs": [
    {
     "name": "stdout",
     "output_type": "stream",
     "text": [
      "time consumed to perform this task is 0.0\n"
     ]
    }
   ],
   "source": [
    "file_path = r'C:\\Users\\pr\\test_03.txt'\n",
    "time0 = time.time()\n",
    "\n",
    "with open(file_path, newline='') as f:\n",
    "    reader = csv.reader(f, delimiter=\" \")\n",
    "    row, col = list(map(int, next(reader)))\n",
    "    strt = list(map(int, next(reader)))\n",
    "    dest = list(map(int, next(reader)))\n",
    "    orc_no, fellow_no = list(map(int, next(reader)))\n",
    "    \n",
    "    orc_data = np.zeros((int(orc_no), 3)).tolist()\n",
    "    for i in range(orc_no): \n",
    "        orc_data[i] = list(map(int, next(reader)))\n",
    "    \n",
    "    fellow_strt = np.zeros((fellow_no, 2)).tolist()\n",
    "    for i in range(fellow_no): \n",
    "        fellow_strt[i] = list(map(int, next(reader)))\n",
    "        \n",
    "    fellow_dest = np.zeros((fellow_no, 2)).tolist()\n",
    "    for i in range(fellow_no): \n",
    "        fellow_dest[i] = list(map(int, next(reader)))\n",
    "        \n",
    "        \n",
    "time1 = time.time()\n",
    "print('time consumed to perform this task is {}'.format(time1-time0))"
   ]
  },
  {
   "cell_type": "markdown",
   "metadata": {},
   "source": [
    "note: the heuristic function is declared here to be usable inside the __lt__ function and is later explained"
   ]
  },
  {
   "cell_type": "code",
   "execution_count": 318,
   "metadata": {},
   "outputs": [],
   "source": [
    "def heuristic(current_state):\n",
    "    \n",
    "    h = 0 \n",
    "    \n",
    "    current_to_member_strt_min = row + col\n",
    "    member_dest_to_Gondor_min = row + col\n",
    "    member_state_2 = []\n",
    "    \n",
    "    origin_of_calc = current_state[0:2]\n",
    "    \n",
    "    for i in range(fellow_no):\n",
    "        \n",
    "        if current_state[2+i] == 2:\n",
    "            member_state_2.append(i)\n",
    "            h += manhattan(fellow_dest[i], fellow_strt[i])\n",
    "            if manhattan(fellow_dest[i], goal_state[0:2]) <= member_dest_to_Gondor_min:\n",
    "                member_dest_to_Gondor_min = manhattan(fellow_dest[i], goal_state[0:2])\n",
    "            \n",
    "        if current_state[2+i] == 1:\n",
    "            member_state_1 = i\n",
    "            origin_of_calc = fellow_dest[i]\n",
    "            h += manhattan(current_state[0:2], fellow_dest[i])\n",
    "    \n",
    "    for m in member_state_2:\n",
    "        if manhattan(fellow_strt[i], origin_of_calc) <= current_to_member_strt_min:\n",
    "            current_to_member_strt_min = manhattan(fellow_strt[i], origin_of_calc) \n",
    "        \n",
    "    \n",
    "    if current_to_member_strt_min != row + col:\n",
    "        h += current_to_member_strt_min\n",
    "    if member_dest_to_Gondor_min != row + col:\n",
    "        h += member_dest_to_Gondor_min\n",
    "        \n",
    "    return h*1.5"
   ]
  },
  {
   "cell_type": "markdown",
   "metadata": {},
   "source": [
    "### How to tackle the problem\n",
    "\n",
    "First we need to create a model of our game.\n",
    "\n",
    "##### States (How to describe the game status)\n",
    "\n",
    "In order to have a completely descriptive of our state, we should know to following:\n",
    "    - the coordinates of Gandalf\n",
    "    - the state of each member of fellowship (starting point/with Gandalf/destination)\n",
    "    - the steps taken in the space guarded by each orc\n",
    "    \n",
    "For instance, the initial state of the example in the pdf file will be as shown bellow:\n",
    "    - state = Gandalf_Coordinates + Conditions_of_Fellow_Members + Steps_in_Orc_Zones = [0, 0] + [2, 2] + [0, 0, 0]\n",
    "\n",
    "##### Actions\n",
    "\n",
    "The possible actions are up, down, right and left, unless:\n",
    "    - the action moves Gandalf out of the grid\n",
    "    - the action is the (n+1)th step inside an orc's guarded area\n",
    "    \n",
    "    \n",
    "##### Goal\n",
    "\n",
    "Gandalf and each member of the fellowship should have the same coordinate as their destination.In other words, all fellowship members should be in state 0 (Similar to steps taken in orc zones.) For example, the goal state for our pdf example will be as follows:\n",
    "    - goal_state = [7, 7, 0, 0, 0, 0, 0]\n",
    "\n",
    "\n",
    "##### Cost\n",
    "\n",
    "The cost of each move should be equal to one as there are no priorities mentioned in problem."
   ]
  },
  {
   "cell_type": "markdown",
   "metadata": {},
   "source": [
    "________________________\n",
    "\n",
    "#### Creating the Node Class\n",
    "\n",
    "    - state, parent, path, path_cost, depth, and map are class variables.\n",
    "    - the equality of Nodes are examined by comparing their map which is created from converting Node.state to string\n",
    "    - hash function is used for keeping the Nodes in a set when listing them makes the program slow\n",
    "    - __lt__ function is used for A* search algorithm. It is used in inserting a new Node in a sorted list of Nodes\n",
    "    - path_str() function is used to print the path taken to the goal_state\n"
   ]
  },
  {
   "cell_type": "code",
   "execution_count": 306,
   "metadata": {},
   "outputs": [],
   "source": [
    "class Node:\n",
    "    def __init__(self, state, parent, path_cost, path):\n",
    "        self.state = state\n",
    "        self.parent = parent\n",
    "        self.path_cost = path_cost\n",
    "        self.path = path\n",
    "        self.depth = len(self.path)\n",
    "        \n",
    "        if self.state:\n",
    "            self.map = ''.join(str(e) for e in self.state)\n",
    "            \n",
    "    def __eq__(self, other):\n",
    "        return self.map == other.map\n",
    "    \n",
    "    def __hash__(self):\n",
    "        return hash(self.map)\n",
    "    \n",
    "    def __len__(self):\n",
    "        return self.depth\n",
    "    \n",
    "    def __lt__(self, other):\n",
    "        if self.path_cost + heuristic(self.state) < other.path_cost + heuristic(other.state):\n",
    "            return True\n",
    "        return False\n",
    "    \n",
    "    def path_str(self):\n",
    "        string_path = ''\n",
    "        for i in self.path:\n",
    "            if i==0: string_path += 'U'\n",
    "            elif i==1: string_path += 'D'\n",
    "            elif i==2: string_path += 'R'\n",
    "            elif i==3: string_path += 'L'\n",
    "                \n",
    "        return string_path"
   ]
  },
  {
   "cell_type": "markdown",
   "metadata": {},
   "source": [
    "#### initial and final states\n",
    "\n",
    "the conditions of members of the fellowship are coded as follows:\n",
    "    - at the starting point = 2\n",
    "    - Acompanied by Gandalf = 1\n",
    "    - at the destination = 0\n",
    "    \n",
    "The initial state is (strt + [2] * fellow_no + [0] * orc_no) because at the begining all the members of fellowship are at the starting point (which, as told, is not guarded by any orc)\n",
    "\n",
    "The final state is (dest + [0] * fellow_no + [0] * orc_no) because at the end all the members of fellowship are at the destination (which, as told, is not guarded by any orc)"
   ]
  },
  {
   "cell_type": "markdown",
   "metadata": {},
   "source": [
    "________________________\n",
    "\n",
    "##### Defining the initial and final states and useful functions"
   ]
  },
  {
   "cell_type": "code",
   "execution_count": 307,
   "metadata": {},
   "outputs": [],
   "source": [
    "initial_state = strt + [2] * fellow_no + [0] * orc_no\n",
    "goal_state = dest + [0] * fellow_no + [0] * orc_no\n",
    "\n",
    "initial_node = Node(initial_state, None, 0, [])\n",
    "goal_node = None # final node's data (cost, parent, ...) is uknown"
   ]
  },
  {
   "cell_type": "code",
   "execution_count": 308,
   "metadata": {},
   "outputs": [],
   "source": [
    "def coord_valid(coords):\n",
    "    check = coords + [row - 1 - coords[0], col - 1 - coords[1]]\n",
    "    if sum(1 for num in check if num < 0) == 0:\n",
    "        return True\n",
    "    return False\n",
    "\n",
    "def orc_available(coords):\n",
    "    \n",
    "    for orc in orc_data:\n",
    "        if coords == orc[0:1]:\n",
    "            return True\n",
    "    return False\n",
    "\n",
    "def guarded_by_orc(coords):\n",
    "    \n",
    "    for i in range(len(orc_data)):\n",
    "        if (abs(coords[0]-orc_data[i][0]) + abs(coords[1]-orc_data[i][1])) <= orc_data[i][2]:\n",
    "            return i + 1\n",
    "    return -1\n",
    "\n",
    "def member_is_in_state(current_state, member_state):\n",
    "    \n",
    "    for i in range(fellow_no):\n",
    "        if current_state[i+2]==member_state:\n",
    "            return True\n",
    "    return False\n",
    "\n",
    "\n",
    "def member_available(current_state):\n",
    "    \n",
    "    for i in range(fellow_no):\n",
    "        if current_state[0:2] == fellow_strt[i] and current_state[2+i] == 2:\n",
    "            return i+1\n",
    "    return -1\n",
    "\n",
    "\n",
    "def update_fellowship(current_state):\n",
    "    \n",
    "    if member_available(current_state) != -1 and not member_is_in_state(current_state, 1):\n",
    "        \n",
    "        member_available_number = member_available(current_state)\n",
    "        current_state[1+member_available_number] = 1\n",
    "\n",
    "    elif member_is_in_state(current_state, 1):\n",
    "        \n",
    "        for i in range(fellow_no):\n",
    "            if current_state[0:2] == fellow_dest[i] and current_state[2+i] == 1:\n",
    "                current_state[2+i] = 0\n",
    "        \n",
    "    return current_state"
   ]
  },
  {
   "cell_type": "code",
   "execution_count": 244,
   "metadata": {},
   "outputs": [],
   "source": [
    "def extract_subnodes(current_node):\n",
    "    \n",
    "    subnodes = []\n",
    "    \n",
    "    up = [current_node.state[0]-1, current_node.state[1], 0]\n",
    "    down = [current_node.state[0]+1, current_node.state[1], 1]\n",
    "    right = [current_node.state[0], current_node.state[1]+1, 2]\n",
    "    left = [current_node.state[0], current_node.state[1]-1, 3]\n",
    "    \n",
    "    actions = [up, down, right, left]\n",
    "    \n",
    "    i = 0\n",
    "    while i < 4:\n",
    "        \n",
    "        action = actions[i]\n",
    "        i += 1\n",
    "        \n",
    "        if action[0] < 0 or action[1] < 0 or action[0] >= row or action[1] >= col or orc_available(action[0:2]):\n",
    "            continue\n",
    "            \n",
    "        next_state = update_fellowship(action[0:2] + current_node.state[2:])\n",
    "        guarding_orc_no = guarded_by_orc(action[0:2])                \n",
    "\n",
    "        if guarding_orc_no != -1:\n",
    "            \n",
    "            next_state[1 + fellow_no + guarding_orc_no] += 1\n",
    "            \n",
    "            if next_state[1 + fellow_no + guarding_orc_no] <= orc_data[guarding_orc_no-1][2]:\n",
    "                subnodes.append(Node(next_state, current_node, current_node.path_cost + 1, current_node.path+[action[2]]))\n",
    "        else:\n",
    "            next_state[2 + fellow_no:] = [0] * orc_no\n",
    "            subnodes.append(Node(next_state, current_node, current_node.path_cost + 1, current_node.path+[action[2]]))\n",
    "            \n",
    "            \n",
    "    return subnodes"
   ]
  },
  {
   "cell_type": "markdown",
   "metadata": {},
   "source": [
    "## Implementing the BFS Search Algorithm"
   ]
  },
  {
   "cell_type": "code",
   "execution_count": 245,
   "metadata": {},
   "outputs": [],
   "source": [
    "def BFS(current_node, goal_state, print_path):\n",
    "    \n",
    "    frontier = [current_node]\n",
    "    explored_and_frontier = set()\n",
    "    states_no = 0\n",
    "    \n",
    "    while frontier:\n",
    "        \n",
    "        states_no += 1\n",
    "\n",
    "        current_node = frontier.pop(0)\n",
    "        explored_and_frontier.add(current_node.map)\n",
    "        \n",
    "        if current_node.state == goal_state:\n",
    "            if print_path:\n",
    "                print(current_node.path_str())\n",
    "            return states_no\n",
    "        \n",
    "        next_nodes = extract_subnodes(current_node)\n",
    "        \n",
    "        for next_node in next_nodes:\n",
    "            if next_node.map not in explored_and_frontier:\n",
    "                frontier.append(next_node)\n",
    "                explored_and_frontier.add(next_node.map)"
   ]
  },
  {
   "cell_type": "code",
   "execution_count": 309,
   "metadata": {},
   "outputs": [
    {
     "name": "stdout",
     "output_type": "stream",
     "text": [
      "paths:\n",
      "DDRDRDDDDDLLDRURUUUUUUUURRRRRRRLLDDDDDLLDDDDLLLLURUUUURRRRRRRDDDDD\n",
      "number of states is 7100\n",
      "mean time consumed is 0.5533377329508463\n"
     ]
    }
   ],
   "source": [
    "print('paths:')\n",
    "\n",
    "time0 = time.time()\n",
    "BFS_number_of_states_3 = BFS(initial_node, goal_state, print_path=True)\n",
    "time1 = time.time()\n",
    "BFS_T1_3 = time1-time0\n",
    "\n",
    "time0 = time.time()\n",
    "BFS(initial_node, goal_state, print_path=False)\n",
    "time1 = time.time()\n",
    "BFS_T2_3 = time1-time0\n",
    "\n",
    "time0 = time.time()\n",
    "BFS(initial_node, goal_state, print_path=False)\n",
    "time1 = time.time()\n",
    "BFS_T3_3 = time1-time0\n",
    "\n",
    "print('number of states is {}'.format(BFS_number_of_states))\n",
    "BFS_mean_3 = mean([BFS_T1_3, BFS_T2_3, BFS_T3_3])\n",
    "print('mean time consumed is {}'.format(BFS_mean_3))"
   ]
  },
  {
   "cell_type": "markdown",
   "metadata": {},
   "source": [
    "## Implementing the IDS Search Algorithm"
   ]
  },
  {
   "cell_type": "code",
   "execution_count": 247,
   "metadata": {},
   "outputs": [],
   "source": [
    "def DFS(current_node, goal_state, depth_limit):\n",
    "    \n",
    "    frontier = [current_node]\n",
    "    explored_and_frontier = set()\n",
    "    states_no = 0\n",
    "    \n",
    "    while frontier:\n",
    "        \n",
    "        states_no += 1\n",
    "        \n",
    "        current_node = frontier.pop()\n",
    "        explored_and_frontier.add(current_node.map)\n",
    "        \n",
    "        if current_node.state == goal_state:\n",
    "            return current_node, states_no\n",
    "\n",
    "        next_nodes = extract_subnodes(current_node)\n",
    "        \n",
    "        for next_node in next_nodes:\n",
    "            if next_node.map not in explored_and_frontier and depth_limit >= next_node.depth:\n",
    "                frontier.append(next_node)\n",
    "                explored_and_frontier.add(next_node.map)"
   ]
  },
  {
   "cell_type": "code",
   "execution_count": 248,
   "metadata": {},
   "outputs": [],
   "source": [
    "def IDS(initial_node, goal_states, print_path):\n",
    "    \n",
    "    current_depth = 1\n",
    "    \n",
    "    while True:\n",
    "        search_answer = DFS(initial_node, goal_state, current_depth)\n",
    "        if search_answer is not None:\n",
    "            goal_node, states_no = search_answer\n",
    "            if print_path:\n",
    "                print(goal_node.path_str())\n",
    "            return states_no\n",
    "        \n",
    "        current_depth += 1"
   ]
  },
  {
   "cell_type": "code",
   "execution_count": 311,
   "metadata": {},
   "outputs": [
    {
     "name": "stdout",
     "output_type": "stream",
     "text": [
      "paths:\n",
      "RRRRRRRLLLLLLLDDRRDRDRRRRRRDDDDDLLLLLLLLLRRRRRRRRRUUUULLLLLLLUULULUURRRRRRRRRLLLDDRDRRDDLLLLULLLDDDDRRRDRRRRUUUUULLLLLLLURDDLDDDLLRRRRRDRRRR\n",
      "number of states is 1230\n",
      "mean time consumed is 27.537041187286377\n"
     ]
    }
   ],
   "source": [
    "print('paths:')\n",
    "\n",
    "time0 = time.time()\n",
    "IDS_number_of_states_3 = IDS(initial_node, goal_state, print_path=True)\n",
    "time1 = time.time()\n",
    "IDS_T1_3 = time1-time0\n",
    "\n",
    "time0 = time.time()\n",
    "IDS(initial_node, goal_state, print_path=False)\n",
    "time1 = time.time()\n",
    "IDS_T2_3 = time1-time0\n",
    "\n",
    "time0 = time.time()\n",
    "IDS(initial_node, goal_state, print_path=False)\n",
    "time1 = time.time()\n",
    "IDS_T3_3 = time1-time0\n",
    "\n",
    "print('number of states is {}'.format(IDS_number_of_states))\n",
    "IDS_mean_3 = mean([IDS_T1_3, IDS_T2_3, IDS_T3_3])\n",
    "print('mean time consumed is {}'.format(IDS_mean_3))"
   ]
  },
  {
   "cell_type": "markdown",
   "metadata": {},
   "source": [
    "## Implementing A* Search Algorithm"
   ]
  },
  {
   "cell_type": "markdown",
   "metadata": {},
   "source": [
    "### Heuristic Function\n",
    "\n",
    "Since there is a possibility of visiting the same subnode from various parents (a node can be access from left, right, up, and down, if they are present), we are dealing with a graph search. As a result, our heuristic function should be consistent to have an optimal result.\n",
    "\n",
    "Therefore our heuristic function should be:\n",
    "\n",
    "h = manhattan distance between starting point and destination of members at starting point  (1)\n",
    "    + manhattan distance between current place and destination of the member with Gandalf (if any) (2)\n",
    "    + min dist between the current state (or the destination of the current member with Gandalf if any) to Gondor (3)\n",
    "    + min dist between the destinations of members (4)\n",
    "\n",
    "\n",
    "#### Consistency\n",
    "\n",
    "the condition for being consistent is : Cost(A to C) + h(C) >= h(A)\n",
    "                                        or  path_cost(C) - path_cost(A) + h(C) >= h(A)\n",
    "                                        or  path_cost(C) - path_cost(A) >= h(A) - h(C)\n",
    "                                        or real_cost(A to C) >= heuristic(A to C)\n",
    "                                        \n",
    "We prove the consistency by checking this equation for each bit of our heuristic function:\n",
    "\n",
    "-(1),(2): the manhattan dist is the min path that Gandalf should pass and it can be longer due to the presence of orcs\n",
    "\n",
    "-(3),(4): the smallest path is when the destination of each member is the starting point of another one and vice versa. In this condition, the closest starting point to current place plus the closest place from destinations to Gondor are to be added to (1) and (2) parts.\n",
    "\n",
    "Therefore, we can conclude that each step towards our path has a real cost bigger than or equal to the heuristic function."
   ]
  },
  {
   "cell_type": "code",
   "execution_count": 94,
   "metadata": {},
   "outputs": [],
   "source": [
    "def manhattan(state1, state2):\n",
    "    return (abs(state1[0] - state2[0]) + abs(state1[1] - state2[1]))\n",
    "\n",
    "def dist(state1, state2):\n",
    "    return math.sqrt(abs(state1[0] - state2[0])**2 + abs(state1[1] - state2[1])**2)"
   ]
  },
  {
   "cell_type": "code",
   "execution_count": 214,
   "metadata": {},
   "outputs": [],
   "source": [
    "def A_star(print_path):\n",
    "    \n",
    "    frontier = [initial_node]\n",
    "    frontier_fs = [initial_node]\n",
    "    explored_and_frontier = set()\n",
    "    \n",
    "    states_no = 0\n",
    "    \n",
    "    while frontier:\n",
    "        \n",
    "        states_no += 1\n",
    "        \n",
    "        current_node = frontier.pop(0)\n",
    "        explored_and_frontier.add(current_node.map)\n",
    "        \n",
    "        if current_node.state == goal_state:\n",
    "            if print_path:\n",
    "                print(current_node.path_str())\n",
    "            return states_no\n",
    "        \n",
    "        next_nodes = extract_subnodes(current_node)\n",
    "        \n",
    "        \n",
    "        for next_node in next_nodes:\n",
    "            if next_node.map not in explored_and_frontier:\n",
    "                bisect.insort(frontier, next_node)\n",
    "                explored_and_frontier.add(next_node.map)\n",
    "                "
   ]
  },
  {
   "cell_type": "code",
   "execution_count": 313,
   "metadata": {},
   "outputs": [
    {
     "name": "stdout",
     "output_type": "stream",
     "text": [
      "paths:\n",
      "DDRDRDDDDDLLRDURUUUUUUUURRRRRRRLLDDDDDLLDDDDLLLLURUUUURRRRRRRDDDDD\n",
      "number of states is 344\n",
      "mean time consumed is 0.25337910652160645\n"
     ]
    }
   ],
   "source": [
    "print('paths:')\n",
    "\n",
    "time0 = time.time()\n",
    "A_star_number_of_states_3 = A_star(print_path=True)\n",
    "time1 = time.time()\n",
    "A_star_T1_3 = time1-time0\n",
    "\n",
    "time0 = time.time()\n",
    "A_star(print_path=False)\n",
    "time1 = time.time()\n",
    "A_star_T2_3 = time1-time0\n",
    "\n",
    "time0 = time.time()\n",
    "A_star(print_path=False)\n",
    "time1 = time.time()\n",
    "A_star_T3_3 = time1-time0\n",
    "\n",
    "print('number of states is {}'.format(A_star_number_of_states))\n",
    "A_star_mean_3 = mean([A_star_T1_3, A_star_T2_3, A_star_T3_3])\n",
    "print('mean time consumed is {}'.format(A_star_mean_3))"
   ]
  },
  {
   "cell_type": "code",
   "execution_count": 316,
   "metadata": {},
   "outputs": [
    {
     "name": "stdout",
     "output_type": "stream",
     "text": [
      "paths:\n",
      "DDRDRDDDDDLLRDURUUUUUUUURRRRRRRLLDDDDDLLDDDDLLLLURUUUURRRRRRRDDDDD\n",
      "number of states is 344\n",
      "mean time consumed is 0.073333740234375\n"
     ]
    }
   ],
   "source": [
    "print('paths:')\n",
    "\n",
    "time0 = time.time()\n",
    "A_star_number_of_states_3_W1 = A_star(print_path=True)\n",
    "time1 = time.time()\n",
    "A_star_T1_3_W1 = time1-time0\n",
    "\n",
    "time0 = time.time()\n",
    "A_star(print_path=False)\n",
    "time1 = time.time()\n",
    "A_star_T2_3_W1 = time1-time0\n",
    "\n",
    "time0 = time.time()\n",
    "A_star(print_path=False)\n",
    "time1 = time.time()\n",
    "A_star_T3_3_W1 = time1-time0\n",
    "\n",
    "print('number of states is {}'.format(A_star_number_of_states))\n",
    "A_star_mean_3_W1 = mean([A_star_T1_3_W1, A_star_T2_3_W1, A_star_T3_3_W1])\n",
    "print('mean time consumed is {}'.format(A_star_mean_3_W1))"
   ]
  },
  {
   "cell_type": "code",
   "execution_count": 327,
   "metadata": {},
   "outputs": [
    {
     "name": "stdout",
     "output_type": "stream",
     "text": [
      "paths:\n",
      "RRRRRRRDDDDDLLDDDDLLLLUDURUUUUUUUURRRRRRRDLLLLULLDLDDDDDDDLLRRUUUURRRRRRRDDDDD\n",
      "number of states is 344\n",
      "mean time consumed is 0.14333359400431314\n"
     ]
    }
   ],
   "source": [
    "print('paths:')\n",
    "\n",
    "time0 = time.time()\n",
    "A_star_number_of_states_3_W2 = A_star(print_path=True)\n",
    "time1 = time.time()\n",
    "A_star_T1_3_W2 = time1-time0\n",
    "\n",
    "time0 = time.time()\n",
    "A_star(print_path=False)\n",
    "time1 = time.time()\n",
    "A_star_T2_3_W2 = time1-time0\n",
    "\n",
    "time0 = time.time()\n",
    "A_star(print_path=False)\n",
    "time1 = time.time()\n",
    "A_star_T3_3_W2 = time1-time0\n",
    "\n",
    "print('number of states is {}'.format(A_star_number_of_states))\n",
    "A_star_mean_3_W2 = mean([A_star_T1_3_W2, A_star_T2_3_W2, A_star_T3_3_W2])\n",
    "print('mean time consumed is {}'.format(A_star_mean_3_W2))"
   ]
  },
  {
   "cell_type": "markdown",
   "metadata": {},
   "source": [
    "## Conclusion"
   ]
  },
  {
   "cell_type": "markdown",
   "metadata": {},
   "source": [
    "### Table of Results"
   ]
  },
  {
   "cell_type": "markdown",
   "metadata": {},
   "source": [
    "#### Test_00"
   ]
  },
  {
   "cell_type": "code",
   "execution_count": 238,
   "metadata": {
    "scrolled": true
   },
   "outputs": [
    {
     "data": {
      "text/html": [
       "<div>\n",
       "<style scoped>\n",
       "    .dataframe tbody tr th:only-of-type {\n",
       "        vertical-align: middle;\n",
       "    }\n",
       "\n",
       "    .dataframe tbody tr th {\n",
       "        vertical-align: top;\n",
       "    }\n",
       "\n",
       "    .dataframe thead th {\n",
       "        text-align: right;\n",
       "    }\n",
       "</style>\n",
       "<table border=\"1\" class=\"dataframe\">\n",
       "  <thead>\n",
       "    <tr style=\"text-align: right;\">\n",
       "      <th></th>\n",
       "      <th>SearchAlgorithm</th>\n",
       "      <th>AnswerLength</th>\n",
       "      <th># States</th>\n",
       "      <th>MeanofConsumedTime</th>\n",
       "    </tr>\n",
       "  </thead>\n",
       "  <tbody>\n",
       "    <tr>\n",
       "      <th>0</th>\n",
       "      <td>BFS</td>\n",
       "      <td>48</td>\n",
       "      <td>7100</td>\n",
       "      <td>0.386208</td>\n",
       "    </tr>\n",
       "    <tr>\n",
       "      <th>1</th>\n",
       "      <td>IDS</td>\n",
       "      <td>88</td>\n",
       "      <td>1230</td>\n",
       "      <td>8.782216</td>\n",
       "    </tr>\n",
       "    <tr>\n",
       "      <th>2</th>\n",
       "      <td>A*</td>\n",
       "      <td>48</td>\n",
       "      <td>344</td>\n",
       "      <td>0.123377</td>\n",
       "    </tr>\n",
       "    <tr>\n",
       "      <th>3</th>\n",
       "      <td>Weighted A*Weight (alpha=2.5)</td>\n",
       "      <td>48</td>\n",
       "      <td>172</td>\n",
       "      <td>0.076667</td>\n",
       "    </tr>\n",
       "    <tr>\n",
       "      <th>4</th>\n",
       "      <td>Weighted A*Weight (alpha=1.5)</td>\n",
       "      <td>48</td>\n",
       "      <td>131</td>\n",
       "      <td>0.063335</td>\n",
       "    </tr>\n",
       "  </tbody>\n",
       "</table>\n",
       "</div>"
      ],
      "text/plain": [
       "                 SearchAlgorithm  AnswerLength  # States  MeanofConsumedTime\n",
       "0                            BFS            48      7100            0.386208\n",
       "1                            IDS            88      1230            8.782216\n",
       "2                             A*            48       344            0.123377\n",
       "3  Weighted A*Weight (alpha=2.5)            48       172            0.076667\n",
       "4  Weighted A*Weight (alpha=1.5)            48       131            0.063335"
      ]
     },
     "execution_count": 238,
     "metadata": {},
     "output_type": "execute_result"
    }
   ],
   "source": [
    "data = {'SearchAlgorithm': ['BFS', 'IDS', 'A*', 'Weighted A*Weight (alpha=2.5)', 'Weighted A*Weight (alpha=1.5)'],\n",
    "        'AnswerLength': [48, 88, 48, 48, 48],\n",
    "        '# States':[BFS_number_of_states_0, IDS_number_of_states_0, A_star_number_of_states_0, A_star_number_of_states_0_W1, A_star_number_of_states_0_W2], \n",
    "        'MeanofConsumedTime': [BFS_mean_0, IDS_mean_0, A_star_mean_0, A_star_mean_0_W1, A_star_mean_0_W2]}  \n",
    "       \n",
    "df = pd.DataFrame(data)\n",
    "df"
   ]
  },
  {
   "cell_type": "markdown",
   "metadata": {},
   "source": [
    "#### Test_01"
   ]
  },
  {
   "cell_type": "code",
   "execution_count": 281,
   "metadata": {},
   "outputs": [
    {
     "data": {
      "text/html": [
       "<div>\n",
       "<style scoped>\n",
       "    .dataframe tbody tr th:only-of-type {\n",
       "        vertical-align: middle;\n",
       "    }\n",
       "\n",
       "    .dataframe tbody tr th {\n",
       "        vertical-align: top;\n",
       "    }\n",
       "\n",
       "    .dataframe thead th {\n",
       "        text-align: right;\n",
       "    }\n",
       "</style>\n",
       "<table border=\"1\" class=\"dataframe\">\n",
       "  <thead>\n",
       "    <tr style=\"text-align: right;\">\n",
       "      <th></th>\n",
       "      <th>SearchAlgorithm</th>\n",
       "      <th>AnswerLength</th>\n",
       "      <th># States</th>\n",
       "      <th>MeanofConsumedTime</th>\n",
       "    </tr>\n",
       "  </thead>\n",
       "  <tbody>\n",
       "    <tr>\n",
       "      <th>0</th>\n",
       "      <td>BFS</td>\n",
       "      <td>52</td>\n",
       "      <td>1821</td>\n",
       "      <td>0.119995</td>\n",
       "    </tr>\n",
       "    <tr>\n",
       "      <th>1</th>\n",
       "      <td>IDS</td>\n",
       "      <td>70</td>\n",
       "      <td>522</td>\n",
       "      <td>3.108636</td>\n",
       "    </tr>\n",
       "    <tr>\n",
       "      <th>2</th>\n",
       "      <td>A*</td>\n",
       "      <td>52</td>\n",
       "      <td>596</td>\n",
       "      <td>0.123331</td>\n",
       "    </tr>\n",
       "    <tr>\n",
       "      <th>3</th>\n",
       "      <td>Weighted A*Weight (alpha=2.5)</td>\n",
       "      <td>56</td>\n",
       "      <td>253</td>\n",
       "      <td>0.059997</td>\n",
       "    </tr>\n",
       "    <tr>\n",
       "      <th>4</th>\n",
       "      <td>Weighted A*Weight (alpha=1.5)</td>\n",
       "      <td>56</td>\n",
       "      <td>502</td>\n",
       "      <td>0.103330</td>\n",
       "    </tr>\n",
       "  </tbody>\n",
       "</table>\n",
       "</div>"
      ],
      "text/plain": [
       "                 SearchAlgorithm  AnswerLength  # States  MeanofConsumedTime\n",
       "0                            BFS            52      1821            0.119995\n",
       "1                            IDS            70       522            3.108636\n",
       "2                             A*            52       596            0.123331\n",
       "3  Weighted A*Weight (alpha=2.5)            56       253            0.059997\n",
       "4  Weighted A*Weight (alpha=1.5)            56       502            0.103330"
      ]
     },
     "execution_count": 281,
     "metadata": {},
     "output_type": "execute_result"
    }
   ],
   "source": [
    "data = {'SearchAlgorithm': ['BFS', 'IDS', 'A*', 'Weighted A*Weight (alpha=2.5)', 'Weighted A*Weight (alpha=1.5)'],\n",
    "        'AnswerLength': [52, 70, 52, 56, 56],\n",
    "        '# States':[BFS_number_of_states_1, IDS_number_of_states_1, A_star_number_of_states_1, A_star_number_of_states_1_W1, A_star_number_of_states_1_W2], \n",
    "        'MeanofConsumedTime': [BFS_mean_1, IDS_mean_1, A_star_mean_1, A_star_mean_1_W1, A_star_mean_1_W2]}  \n",
    "       \n",
    "df = pd.DataFrame(data)\n",
    "df"
   ]
  },
  {
   "cell_type": "markdown",
   "metadata": {},
   "source": [
    "#### Test_02"
   ]
  },
  {
   "cell_type": "code",
   "execution_count": 302,
   "metadata": {},
   "outputs": [
    {
     "data": {
      "text/html": [
       "<div>\n",
       "<style scoped>\n",
       "    .dataframe tbody tr th:only-of-type {\n",
       "        vertical-align: middle;\n",
       "    }\n",
       "\n",
       "    .dataframe tbody tr th {\n",
       "        vertical-align: top;\n",
       "    }\n",
       "\n",
       "    .dataframe thead th {\n",
       "        text-align: right;\n",
       "    }\n",
       "</style>\n",
       "<table border=\"1\" class=\"dataframe\">\n",
       "  <thead>\n",
       "    <tr style=\"text-align: right;\">\n",
       "      <th></th>\n",
       "      <th>SearchAlgorithm</th>\n",
       "      <th>AnswerLength</th>\n",
       "      <th># States</th>\n",
       "      <th>MeanofConsumedTime</th>\n",
       "    </tr>\n",
       "  </thead>\n",
       "  <tbody>\n",
       "    <tr>\n",
       "      <th>0</th>\n",
       "      <td>BFS</td>\n",
       "      <td>34</td>\n",
       "      <td>404</td>\n",
       "      <td>0.030001</td>\n",
       "    </tr>\n",
       "    <tr>\n",
       "      <th>1</th>\n",
       "      <td>IDS</td>\n",
       "      <td>44</td>\n",
       "      <td>132</td>\n",
       "      <td>0.286031</td>\n",
       "    </tr>\n",
       "    <tr>\n",
       "      <th>2</th>\n",
       "      <td>A*</td>\n",
       "      <td>34</td>\n",
       "      <td>150</td>\n",
       "      <td>0.019999</td>\n",
       "    </tr>\n",
       "    <tr>\n",
       "      <th>3</th>\n",
       "      <td>Weighted A*Weight (alpha=2.5)</td>\n",
       "      <td>36</td>\n",
       "      <td>104</td>\n",
       "      <td>0.016667</td>\n",
       "    </tr>\n",
       "    <tr>\n",
       "      <th>4</th>\n",
       "      <td>Weighted A*Weight (alpha=1.5)</td>\n",
       "      <td>34</td>\n",
       "      <td>114</td>\n",
       "      <td>0.023333</td>\n",
       "    </tr>\n",
       "  </tbody>\n",
       "</table>\n",
       "</div>"
      ],
      "text/plain": [
       "                 SearchAlgorithm  AnswerLength  # States  MeanofConsumedTime\n",
       "0                            BFS            34       404            0.030001\n",
       "1                            IDS            44       132            0.286031\n",
       "2                             A*            34       150            0.019999\n",
       "3  Weighted A*Weight (alpha=2.5)            36       104            0.016667\n",
       "4  Weighted A*Weight (alpha=1.5)            34       114            0.023333"
      ]
     },
     "execution_count": 302,
     "metadata": {},
     "output_type": "execute_result"
    }
   ],
   "source": [
    "data = {'SearchAlgorithm': ['BFS', 'IDS', 'A*', 'Weighted A*Weight (alpha=2.5)', 'Weighted A*Weight (alpha=1.5)'],\n",
    "        'AnswerLength': [34, 44, 34, 36, 34],\n",
    "        '# States':[BFS_number_of_states_2, IDS_number_of_states_2, A_star_number_of_states_2, A_star_number_of_states_2_W1, A_star_number_of_states_2_W2], \n",
    "        'MeanofConsumedTime': [BFS_mean_2, IDS_mean_2, A_star_mean_2, A_star_mean_2_W1, A_star_mean_2_W2]}  \n",
    "       \n",
    "df = pd.DataFrame(data)\n",
    "df"
   ]
  },
  {
   "cell_type": "markdown",
   "metadata": {},
   "source": [
    "#### Teset_03"
   ]
  },
  {
   "cell_type": "code",
   "execution_count": 326,
   "metadata": {},
   "outputs": [
    {
     "data": {
      "text/html": [
       "<div>\n",
       "<style scoped>\n",
       "    .dataframe tbody tr th:only-of-type {\n",
       "        vertical-align: middle;\n",
       "    }\n",
       "\n",
       "    .dataframe tbody tr th {\n",
       "        vertical-align: top;\n",
       "    }\n",
       "\n",
       "    .dataframe thead th {\n",
       "        text-align: right;\n",
       "    }\n",
       "</style>\n",
       "<table border=\"1\" class=\"dataframe\">\n",
       "  <thead>\n",
       "    <tr style=\"text-align: right;\">\n",
       "      <th></th>\n",
       "      <th>SearchAlgorithm</th>\n",
       "      <th>AnswerLength</th>\n",
       "      <th># States</th>\n",
       "      <th>MeanofConsumedTime</th>\n",
       "    </tr>\n",
       "  </thead>\n",
       "  <tbody>\n",
       "    <tr>\n",
       "      <th>0</th>\n",
       "      <td>BFS</td>\n",
       "      <td>66</td>\n",
       "      <td>6635</td>\n",
       "      <td>0.553338</td>\n",
       "    </tr>\n",
       "    <tr>\n",
       "      <th>1</th>\n",
       "      <td>IDS</td>\n",
       "      <td>140</td>\n",
       "      <td>879</td>\n",
       "      <td>27.537041</td>\n",
       "    </tr>\n",
       "    <tr>\n",
       "      <th>2</th>\n",
       "      <td>A*</td>\n",
       "      <td>66</td>\n",
       "      <td>911</td>\n",
       "      <td>0.253379</td>\n",
       "    </tr>\n",
       "    <tr>\n",
       "      <th>3</th>\n",
       "      <td>Weighted A*Weight (alpha=2.5)</td>\n",
       "      <td>66</td>\n",
       "      <td>272</td>\n",
       "      <td>0.073334</td>\n",
       "    </tr>\n",
       "    <tr>\n",
       "      <th>4</th>\n",
       "      <td>Weighted A*Weight (alpha=1.5)</td>\n",
       "      <td>78</td>\n",
       "      <td>501</td>\n",
       "      <td>0.126667</td>\n",
       "    </tr>\n",
       "  </tbody>\n",
       "</table>\n",
       "</div>"
      ],
      "text/plain": [
       "                 SearchAlgorithm  AnswerLength  # States  MeanofConsumedTime\n",
       "0                            BFS            66      6635            0.553338\n",
       "1                            IDS           140       879           27.537041\n",
       "2                             A*            66       911            0.253379\n",
       "3  Weighted A*Weight (alpha=2.5)            66       272            0.073334\n",
       "4  Weighted A*Weight (alpha=1.5)            78       501            0.126667"
      ]
     },
     "execution_count": 326,
     "metadata": {},
     "output_type": "execute_result"
    }
   ],
   "source": [
    "data = {'SearchAlgorithm': ['BFS', 'IDS', 'A*', 'Weighted A*Weight (alpha=2.5)', 'Weighted A*Weight (alpha=1.5)'],\n",
    "        'AnswerLength': [66, 140, 66, 66, 78],\n",
    "        '# States':[BFS_number_of_states_3, IDS_number_of_states_3, A_star_number_of_states_3, A_star_number_of_states_3_W1, A_star_number_of_states_3_W2], \n",
    "        'MeanofConsumedTime': [BFS_mean_3, IDS_mean_3, A_star_mean_3, A_star_mean_3_W1, A_star_mean_3_W2]}  \n",
    "       \n",
    "df = pd.DataFrame(data)\n",
    "df"
   ]
  },
  {
   "cell_type": "markdown",
   "metadata": {},
   "source": [
    "#### Conclusiotn No. 1 - Iterative deepening depth first search is not optimal\n",
    "\n",
    "There are conditions in graph searching that make the iddfs search not optimal. An example for this is:\n",
    "\n",
    "- depth limit: 3\n",
    "- Graph:"
   ]
  },
  {
   "cell_type": "raw",
   "metadata": {},
   "source": [
    "   A --> B --> C --> D --> G\n",
    "    \\-------->/"
   ]
  },
  {
   "cell_type": "markdown",
   "metadata": {},
   "source": [
    "In this position Node C will be visited first from (A-B-C) path which is more expensive. As a result, with depth_limit == 3, reaching to our goal node (G) will be impossible if we start with spreading A to B.\n",
    "\n",
    "Source: https://stackoverflow.com/questions/5001014/error-with-optimality-in-iterative-deepening-depth-first-search-algorithm\n",
    "\n",
    "Note: The other two algoritms are complete and optimal"
   ]
  },
  {
   "cell_type": "markdown",
   "metadata": {},
   "source": [
    "#### Conclusiotn No. 2 - Speed Comparison\n",
    "\n",
    "The IDS algorithm is created of many DFSs. Though DFS is a bit faster than BFS by itself, repeatedly using it for various depths makes it far more slower than BFS.\n",
    "\n",
    "A* algorithm, due to the usage of heuristic function, is more purposeful in choosing the states and therefore ends up exploring less of them. As a result A* becomes very faster than the other two uninformed search algorithms."
   ]
  },
  {
   "cell_type": "markdown",
   "metadata": {},
   "source": [
    "#### Conclusiotn No. 3 - Weighted A* is not optimal\n",
    "\n",
    "As seen in tests 1 to 3, though A* speeds up after inflating the heuristic function, its output is no longer optimal. The reason for this is that the heuristic function is no longer admissible and therefore, not consistent. As a result, it does not guarantee that the output is optimal"
   ]
  }
 ],
 "metadata": {
  "kernelspec": {
   "display_name": "Python 3",
   "language": "python",
   "name": "python3"
  },
  "language_info": {
   "codemirror_mode": {
    "name": "ipython",
    "version": 3
   },
   "file_extension": ".py",
   "mimetype": "text/x-python",
   "name": "python",
   "nbconvert_exporter": "python",
   "pygments_lexer": "ipython3",
   "version": "3.8.3"
  }
 },
 "nbformat": 4,
 "nbformat_minor": 4
}
