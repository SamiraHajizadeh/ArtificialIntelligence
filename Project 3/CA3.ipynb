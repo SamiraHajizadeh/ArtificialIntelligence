{
 "cells": [
  {
   "cell_type": "markdown",
   "id": "ad64795c",
   "metadata": {},
   "source": [
    "# Artificial Intelligence - CA 3"
   ]
  },
  {
   "cell_type": "code",
   "execution_count": 1,
   "id": "09d1888e",
   "metadata": {},
   "outputs": [
    {
     "name": "stdout",
     "output_type": "stream",
     "text": [
      "Requirement already satisfied: hazm in d:\\anaconda3\\lib\\site-packages (0.7.0)\n",
      "Requirement already satisfied: nltk==3.3 in d:\\anaconda3\\lib\\site-packages (from hazm) (3.3)\n",
      "Requirement already satisfied: six in d:\\anaconda3\\lib\\site-packages (from nltk==3.3->hazm) (1.15.0)\n"
     ]
    }
   ],
   "source": [
    "# Installing needed libraries\n",
    "!pip install hazm"
   ]
  },
  {
   "cell_type": "code",
   "execution_count": 21,
   "id": "5e3841ad",
   "metadata": {},
   "outputs": [
    {
     "name": "stdout",
     "output_type": "stream",
     "text": [
      "Collecting parsivar"
     ]
    },
    {
     "name": "stderr",
     "output_type": "stream",
     "text": [
      "ERROR: hazm 0.7.0 has requirement nltk==3.3, but you'll have nltk 3.4.5 which is incompatible.\n"
     ]
    },
    {
     "name": "stdout",
     "output_type": "stream",
     "text": [
      "\n",
      "  Downloading parsivar-0.2.3.tar.gz (36.2 MB)\n",
      "Collecting nltk==3.4.5\n",
      "  Downloading nltk-3.4.5.zip (1.5 MB)\n",
      "Requirement already satisfied: six in d:\\anaconda3\\lib\\site-packages (from nltk==3.4.5->parsivar) (1.15.0)\n",
      "Building wheels for collected packages: parsivar, nltk\n",
      "  Building wheel for parsivar (setup.py): started\n",
      "  Building wheel for parsivar (setup.py): finished with status 'done'\n",
      "  Created wheel for parsivar: filename=parsivar-0.2.3-py3-none-any.whl size=36492963 sha256=f11b32cab5018878c762c4580fa8699448582d1c90e1a981ced12a55273ee3e3\n",
      "  Stored in directory: c:\\users\\pr\\appdata\\local\\pip\\cache\\wheels\\54\\0a\\38\\7d0b1aabbd644340a94fb8685fd20d9f35814d735973d07f40\n",
      "  Building wheel for nltk (setup.py): started\n",
      "  Building wheel for nltk (setup.py): finished with status 'done'\n",
      "  Created wheel for nltk: filename=nltk-3.4.5-py3-none-any.whl size=1449911 sha256=dfca92b38f3135b793d8c8bacc5e5c0f533e4a73f987b8f0d5566010c7ad1739\n",
      "  Stored in directory: c:\\users\\pr\\appdata\\local\\pip\\cache\\wheels\\23\\18\\48\\8fd6ec11da38406b309470566d6f099c04805d2ec61d7829e7\n",
      "Successfully built parsivar nltk\n",
      "Installing collected packages: nltk, parsivar\n",
      "  Attempting uninstall: nltk\n",
      "    Found existing installation: nltk 3.3\n",
      "    Uninstalling nltk-3.3:\n",
      "      Successfully uninstalled nltk-3.3\n",
      "Successfully installed nltk-3.4.5 parsivar-0.2.3\n"
     ]
    }
   ],
   "source": [
    "!pip3 install parsivar"
   ]
  },
  {
   "cell_type": "code",
   "execution_count": 177,
   "id": "31b238c8",
   "metadata": {},
   "outputs": [],
   "source": [
    "# Importing\n",
    "import os\n",
    "import pandas as pd\n",
    "import hazm\n",
    "from collections import Counter\n",
    "import csv\n",
    "import matplotlib.pyplot as plt\n",
    "from hazm.utils import stopwords_list\n",
    "import parsivar\n",
    "from statistics import mean"
   ]
  },
  {
   "cell_type": "markdown",
   "id": "37a59dff",
   "metadata": {},
   "source": [
    "### PART 1 - Preprocessing\n",
    "\n",
    "The following steps were taken for preprocessing our data:\n",
    "\n",
    "    1.Normalizing \n",
    "    2.Stemming\n",
    "    3.Lemmatizing\n",
    "    4.Removing stopwords\n",
    "    5.Removing punctutations and useless characters\n",
    "    \n",
    "\n",
    "Stemming and Lemmatizing on average lowered the accuracy of our model. This is probably due to the fact that the normalizer functions were unsuccessful in stripping 'u\\200c' from the passed strings. In the end, the only functions used were removing stop words and punctuations. \n",
    "The stop words used were a combination of imported stopwords (from Hazm) and the most common words in in the data.\n",
    "\n",
    "***In order to preprocess our data we use Hazm library. \n",
    "\n",
    "\n",
    "##### Stemming\n",
    "\n",
    "Stemming is a technique where a set of words in a sentence are converted into a sequence to shorten its lookup. The words which have the same meaning but have some variation according to the context or sentence are normalized.\n",
    "\n",
    "##### Lemmatization\n",
    "\n",
    "Lemmatization is the algorithmic process of finding the lemma (dictionary form) of a word depending on their meaning. Lemmatization usually refers to the morphological analysis of words, which aims to remove inflectional endings. It helps in returning the base or dictionary form of a word, which is known as the lemma."
   ]
  },
  {
   "cell_type": "code",
   "execution_count": 3,
   "id": "1c88a837",
   "metadata": {},
   "outputs": [],
   "source": [
    "# getting our data\n",
    "\n",
    "train_df = pd.read_csv('train.csv')\n",
    "train_text = open('train.csv', encoding='utf8').read()\n",
    "test_df = pd.read_csv('test.csv')\n",
    "test_text = open('test.csv', encoding='utf8').read()"
   ]
  },
  {
   "cell_type": "code",
   "execution_count": 207,
   "id": "67555b3d",
   "metadata": {},
   "outputs": [],
   "source": [
    "def get_words(text):\n",
    "    \n",
    "    s = ''\n",
    "    words = []\n",
    "    \n",
    "    for i in text:\n",
    "        if i.isalpha():\n",
    "            s += i.upper()\n",
    "        elif s != '':\n",
    "            words.append(s)\n",
    "            s = ''\n",
    "    if s != '':\n",
    "        words.append(s)\n",
    "            \n",
    "    return words\n",
    "\n",
    "\n",
    "normalizer = hazm.Normalizer()\n",
    "stemmer = hazm.Stemmer()\n",
    "lemmatizer = hazm.Lemmatizer()\n",
    "find_stems = parsivar.FindStems()\n",
    "\n",
    "def stop_word_list(file_name, number):\n",
    "\n",
    "    content = open(file_name, encoding='utf8').read()\n",
    "    data = Counter(get_words(content))\n",
    "    common_words = data.most_common(number)\n",
    "    \n",
    "    for i in range(number):\n",
    "        common_words[i] = common_words[i][0]\n",
    "        \n",
    "    return common_words\n",
    "\n",
    "\n",
    "def norm_stem_lem(string):\n",
    "    \n",
    "    string = normalizer.normalize(string)\n",
    "    string = normalizer.affix_spacing(string)\n",
    "    words = get_words(string)\n",
    "    \n",
    "    #for i in range(len(words)):\n",
    "    #    stemmer.stem(words[i])\n",
    "    #    words[i] = lemmatizer.lemmatize(words[i])\n",
    "    #    words[i] = stemmer.stem(words[i])\n",
    "        \n",
    "    return words\n",
    "\n",
    "\n",
    "def remove_stop_words(words, processed_stop_words, to_string=False):\n",
    "    \n",
    "    filtered_words = [word for word in words if word not in [''] + processed_stop_words]\n",
    "    if to_string:\n",
    "        return ' '.join(e for e in filtered_words)\n",
    "    \n",
    "    return filtered_words\n",
    "\n",
    "\n",
    "def preprocess(file_name, number):\n",
    "    \n",
    "    stop_words_imported = stopwords_list() #stop_word_list(file_name, number)\n",
    "    stop_words_text = stop_word_list(file_name, number)\n",
    "    stop_words = stop_words_imported + stop_words_text + ['ی', 'یا', 'ای']\n",
    "    \n",
    "    csv_reader = csv.reader(open(file_name,'r', encoding='utf8'))\n",
    "    #preprocessed_stop_words = norm_stem_lem(' '.join(w for w in stop_words))\n",
    "    \n",
    "    csv_text = []\n",
    "    \n",
    "    for row in csv_reader:\n",
    "        \n",
    "        label = norm_stem_lem(row[1])\n",
    "        label = remove_stop_words(label, stop_words, to_string=True)\n",
    "        content = norm_stem_lem(row[0])\n",
    "        content = remove_stop_words(content, stop_words)\n",
    "        csv_text.append([label, content])\n",
    "            \n",
    "    return csv_text"
   ]
  },
  {
   "cell_type": "code",
   "execution_count": 208,
   "id": "f800892d",
   "metadata": {},
   "outputs": [],
   "source": [
    "preprocessed_train_text = preprocess('train.csv', 13)[1:]\n",
    "preprocessed_test_text = preprocess('test.csv', 13)[1:]"
   ]
  },
  {
   "cell_type": "markdown",
   "id": "355052f3",
   "metadata": {},
   "source": [
    "### PART 2 - Problem's Process\n",
    "\n",
    "\n",
    "In this problem, we have the prior probability (that given a certain label, what is the possibility of having a word.) Now with using this information and two other terms we want to predict the label of the content with the words seen in it.\n",
    "\n",
    "This is done with the help of bayas theorm, in which the likelihood (the probability of seeing a word given a label) is multiplied by prior (the probability of seeing a label) and divided by the evidence (the probability of seeing the word.)\n",
    "The output of this is the posterior or the probability of having a certain label given that a certain word is presented in it.\n",
    "\n",
    "To sum up we have:\n",
    "\n",
    "    P(c|x) is the posterior probability of class (c, target) given predictor (x, attributes).\n",
    "    P(c) is the prior probability of class.\n",
    "    P(x|c) is the likelihood which is the probability of predictor given class.\n",
    "    P(x) is the prior probability of predictor.\n",
    "\n",
    "where c is the label and x is the content seen and each term is calculated as follows:\n",
    "\n",
    "    P(c|x): is calculated using the bayas theorm\n",
    "    P(c): times a label is seen / the number of all labels\n",
    "    P(x|c): times a word is seen given a label\n",
    "    P(x): times a word is seen / the number of all the words available (counting the repeated ones as well.)\n",
    "    \n",
    "    \n",
    "#### Bigrams\n",
    "\n",
    "\n",
    "For instance in these two sentences: 'I have a broken watch' and 'There was a fight during the night watch' the word 'watch' has two totally different meanings which can be determined by using bigrams. In other words, by attaching 'broken' and 'night' to watch the meanings will become totally clear. \n",
    "\n",
    "In this example, using the bigrams suffices, but there are many examples in which only the use of three or more words alongside each other can clarify the meaning of the sentence. In order to cover these examples as well, we use N-grams in natural language processing.\n",
    "    \n",
    "    \n",
    "#### Additive smoothing\n",
    "\n",
    "    The problem: if a word is seen only in one category while training, the P(X|C) term of bayas theorm will be equal to 0. As a result, the output probability or P(C|X) will be 0 as well.\n",
    "\n",
    "    Solution: Additive Smoothing\n",
    "    \n",
    "In statistics, additive smoothing, also called Laplace smoothing is a technique used to smooth categorical data. Given a set of observation counts ${\\textstyle \\textstyle {\\mathbf {x} \\ =\\ \\left\\langle x_{1},\\,x_{2},\\,\\ldots ,\\,x_{d}\\right\\rangle }}$ from a ${\\textstyle \\textstyle {d}}$-dimensional multinomial distribution with ${\\textstyle \\textstyle {N}}$ trials, a \"smoothed\" version of the counts gives the estimator:\n",
    "\n",
    "${\\displaystyle {\\hat {\\theta }}_{i}={\\frac {x_{i}+\\alpha }{N+\\alpha d}}\\qquad (i=1,\\ldots ,d)}$,\n",
    "\n",
    "where the smoothed count ${\\textstyle \\textstyle {{\\hat {x}}_{i}=N{\\hat {\\theta }}_{i}}}$ and the \"pseudocount\" α > 0 is a smoothing parameter. α = 0 corresponds to no smoothing.\n",
    "Additive smoothing is a type of shrinkage estimator, as the resulting estimate will be between the empirical probability (relative frequency)  $ {\\textstyle \\textstyle {x_{i}/N}}$, and the uniform probability ${\\textstyle \\textstyle {1/d}}$. \n",
    "\n",
    "\n",
    "From a Bayesian point of view, this corresponds to the expected value of the posterior distribution, using a symmetric Dirichlet distribution with parameter α as a prior distribution. \n",
    "\n",
    "\n",
    "In order to implement this in our code, we replace P(X|C) with (P(X and C) + 1) / (N + k), where:\n",
    "\n",
    "    K represents the dimensions(no of features) in the data,\n",
    "    N represents the number of reviews with target_outcome=positive ==> N = P(C)\n"
   ]
  },
  {
   "cell_type": "code",
   "execution_count": 267,
   "id": "7aee74a5",
   "metadata": {},
   "outputs": [],
   "source": [
    "def get_labels(csv_text):\n",
    "    \n",
    "    labels = {}\n",
    "    \n",
    "    for i in range(len(csv_text)):\n",
    "        if csv_text[i][0] not in labels:\n",
    "            labels[csv_text[i][0]] = 0\n",
    "            \n",
    "    return labels\n",
    "\n",
    "\n",
    "def get_labels_of_words(train_data, labels):\n",
    "    \n",
    "    word_dict = {}\n",
    "    word_no = 0\n",
    "\n",
    "    for i in range(len(train_data)):\n",
    "        \n",
    "        label, content = train_data[i]\n",
    "        \n",
    "        for word in content:\n",
    "            word_no += 1\n",
    "            if word not in word_dict:\n",
    "                word_dict[word] = [0, 0, 0, 0]\n",
    "                \n",
    "            index = labels.index(label)\n",
    "            word_dict[word][index] += 1\n",
    "            \n",
    "    return word_dict, word_no\n",
    "\n",
    "\n",
    "\n",
    "def get_label_pr_for_word(train_data, word, words_no, word_dict, labels_dict, pr_label, pr_total_dict):\n",
    "    \n",
    "    if word not in word_dict:\n",
    "    #    return pr_total_dict\n",
    "        word_number = 0\n",
    "    else:\n",
    "        word_number = sum(word_dict[word])\n",
    "        \n",
    "    K = len(list(word_dict.keys()))\n",
    "\n",
    "    for label in labels:\n",
    "        \n",
    "        #num_c_and_x = word_dict[word][list(labels.keys()).index(label)]\n",
    "        #pr_c = pr_label[label]\n",
    "        #num_x = word_number\n",
    "        #num_c = pr_label[label] * words_no\n",
    "        #K = len(list(word_dict.keys()))\n",
    "        \n",
    "        #pr_total_dict[label] += (num_c_and_x+1) / (num_c + K)  * pr_c\n",
    "        \n",
    "        if word not in word_dict:\n",
    "            pr_total_dict[label] += 1 / (pr_label[label] * words_no + K) / words_no * pr_label[label]\n",
    "        else:\n",
    "            pr_total_dict[label] += (word_dict[word][list(labels.keys()).index(label)] + 1) / (pr_label[label] * words_no + K) * pr_label[label]\n",
    "        \n",
    "        # pr_total_dict[label] += word_dict[word][list(labels.keys()).index(label)] / pr_label[label] / word_number * pr_label[label]\n",
    "        # pr_total_dict[label] += word_dict[word][list(labels.keys()).index(label)] * pr_label[label] / word_number\n",
    "        \n",
    "    return pr_total_dict\n",
    "\n",
    "\n",
    "def get_labels_pr_total(train_data):\n",
    "    \n",
    "    labels = get_labels(train_data)\n",
    "    \n",
    "    for label, _ in train_data:\n",
    "        labels[label] += 1\n",
    "        \n",
    "    total_sum = sum(labels.values())\n",
    "    \n",
    "    for label in labels:\n",
    "        labels[label] /= total_sum\n",
    "        \n",
    "    return labels"
   ]
  },
  {
   "cell_type": "code",
   "execution_count": 268,
   "id": "c1ef2605",
   "metadata": {},
   "outputs": [],
   "source": [
    "def test_row(train_data, row, word_dict, words_no,  labels_dict, pr_label, pr_total_dict, check=False):\n",
    "    \n",
    "    the_label, content = row\n",
    "    new_content = []\n",
    "    i = 0\n",
    "    [new_content.append(x) for x in content if x not in new_content]\n",
    "    for word in new_content:        \n",
    "        pr_total_dict = get_label_pr_for_word(train_data, word, words_no, word_dict, labels_dict, pr_label, pr_total_dict)\n",
    "        #print(pr_total_dict)\n",
    "        \n",
    "    if check:\n",
    "        return max(pr_total_dict, key=pr_total_dict.get) == the_label\n",
    "        \n",
    "    return max(pr_total_dict, key=pr_total_dict.get)\n",
    "\n",
    "\n",
    "def test(train_data, test_data, words_no, word_labels_dict, labels, pr_label):\n",
    "    \n",
    "    probabilities_zero = {}\n",
    "    for label in labels:\n",
    "        probabilities_zero[label] = 0\n",
    "    \n",
    "    output = []\n",
    "    for i in range(len(test_data)):\n",
    "        if i % 10 == 0:\n",
    "            print(i+1, '/', len(test_data))\n",
    "        output.append(test_row(train_data, test_data[i], word_labels_dict, words_no, labels, pr_label, probabilities_zero))\n",
    "    \n",
    "    return output"
   ]
  },
  {
   "cell_type": "code",
   "execution_count": 269,
   "id": "070214b1",
   "metadata": {},
   "outputs": [],
   "source": [
    "data = preprocessed_train_text + preprocessed_test_text\n",
    "labels = get_labels(data)\n",
    "    \n",
    "word_labels_dict, words_no = get_labels_of_words(preprocessed_train_text, list(labels.keys()))\n",
    "pr_label = get_labels_pr_total(preprocessed_train_text)"
   ]
  },
  {
   "cell_type": "code",
   "execution_count": 270,
   "id": "d8e8a1d5",
   "metadata": {},
   "outputs": [
    {
     "name": "stdout",
     "output_type": "stream",
     "text": [
      "1 / 802\n",
      "11 / 802\n",
      "21 / 802\n",
      "31 / 802\n",
      "41 / 802\n",
      "51 / 802\n",
      "61 / 802\n",
      "71 / 802\n",
      "81 / 802\n",
      "91 / 802\n",
      "101 / 802\n",
      "111 / 802\n",
      "121 / 802\n",
      "131 / 802\n",
      "141 / 802\n",
      "151 / 802\n",
      "161 / 802\n",
      "171 / 802\n",
      "181 / 802\n",
      "191 / 802\n",
      "201 / 802\n",
      "211 / 802\n",
      "221 / 802\n",
      "231 / 802\n",
      "241 / 802\n",
      "251 / 802\n",
      "261 / 802\n",
      "271 / 802\n",
      "281 / 802\n",
      "291 / 802\n",
      "301 / 802\n",
      "311 / 802\n",
      "321 / 802\n",
      "331 / 802\n",
      "341 / 802\n",
      "351 / 802\n",
      "361 / 802\n",
      "371 / 802\n",
      "381 / 802\n",
      "391 / 802\n",
      "401 / 802\n",
      "411 / 802\n",
      "421 / 802\n",
      "431 / 802\n",
      "441 / 802\n",
      "451 / 802\n",
      "461 / 802\n",
      "471 / 802\n",
      "481 / 802\n",
      "491 / 802\n",
      "501 / 802\n",
      "511 / 802\n",
      "521 / 802\n",
      "531 / 802\n",
      "541 / 802\n",
      "551 / 802\n",
      "561 / 802\n",
      "571 / 802\n",
      "581 / 802\n",
      "591 / 802\n",
      "601 / 802\n",
      "611 / 802\n",
      "621 / 802\n",
      "631 / 802\n",
      "641 / 802\n",
      "651 / 802\n",
      "661 / 802\n",
      "671 / 802\n",
      "681 / 802\n",
      "691 / 802\n",
      "701 / 802\n",
      "711 / 802\n",
      "721 / 802\n",
      "731 / 802\n",
      "741 / 802\n",
      "751 / 802\n",
      "761 / 802\n",
      "771 / 802\n",
      "781 / 802\n",
      "791 / 802\n",
      "801 / 802\n"
     ]
    }
   ],
   "source": [
    "output = test(preprocessed_train_text, preprocessed_test_text, words_no, word_labels_dict, labels, pr_label)"
   ]
  },
  {
   "cell_type": "markdown",
   "id": "f861d63f",
   "metadata": {},
   "source": [
    "### PART 3 - Accuracy Test\n",
    "\n",
    "##### The problem with only considering Precision and Recall \n",
    "\n",
    "Recall: Within everything that actually is positive, how many did the model succeed to find:\n",
    "\n",
    "    A model with high recall succeeds well in finding all the positive cases in the data, even though they may also wrongly identify some negative cases as positive cases.\n",
    "    A model with low recall is not able to find all (or a large part) of the positive cases in the data.\n",
    "    \n",
    "Precision: Within everything that has been predicted as a positive, precision counts the percentage that is correct:\n",
    "\n",
    "    A not precise model may find a lot of the positives, but its selection method is noisy: it also wrongly detects many positives that aren’t actually positives.\n",
    "    A precise model is very “pure”: maybe it does not find all the positives, but the ones that the model does class as positive are very likely to be correct.\n",
    "    \n",
    "    \n",
    "A high recall by itself is not a good measure of how well our model works, because a high recall value only means the model tends to identify the positive values very well. This does not explain anything on model's performance with negative data and therefore, is an incomplete measurement. For example, a model can simply return positive for any given input. In this case since all positive values are correctly detected, the recall value is equal to 1, even though the model works poorly.\n",
    "\n",
    "In the case for precision, the measurement is also incomplete. For instance, a model can only be capable of classifying simple inputs (e.g. the ones that were seen most while training) as positive value and miss a lot of positive samples due to inflexibility. In this case the precision is rather high which is not a good reflection on how the model is performing.\n",
    "\n",
    "\n",
    "##### F1-Score\n",
    "\n",
    "The F1 score is the \"harmonic mean\" of the precision and recall; Where the harmonic mean H of the positive real numbers ${\\displaystyle x_{1},x_{2},\\ldots ,x_{n}}$ is defined to be:\n",
    "\n",
    "${\\displaystyle H={\\frac {n}{{\\frac {1}{x_{1}}}+{\\frac {1}{x_{2}}}+\\cdots +{\\frac {1}{x_{n}}}}}={\\frac {n}{\\sum \\limits _{i=1}^{n}{\\frac {1}{x_{i}}}}}=\\left({\\frac {\\sum \\limits _{i=1}^{n}x_{i}^{-1}}{n}}\\right)^{-1}.}$\n",
    "\n",
    "The harmonic mean emphasizes the lowest value, so if one of the parameters is small, the second one is no longer influential.\n",
    "\n",
    "Using this formula allows us to have a metric that is not sensitive to extremely large values, but, on the other hand, not all outliers are ignored in it and extremely low values have a significant influence on the result. Such a function is a perfect choice for the scoring metric of a classifier because useless classifiers get a meager score. To sum up, the characteristic of the metric allows us to compare the performance of two classifiers using just one metric and still be sure that the classifiers are not making some horrible mistakes that are unnoticed by the code which scores their output.\n",
    "\n",
    "\n",
    "##### Multi-Class Metrics\n",
    "\n",
    "We used f1-score in classifiers to have a single metric repressenting the whole model. Now with multiple classes at hand, many f1-scores are generated and again the comparison of two non-binary classifiers is rather hard. Multiclass metrics are therefore used to create this single metric as a (relatively good) repressentative of the models.\n",
    "\n",
    "The steps taken for calculating this metric are:\n",
    "\n",
    "    -calculating precision and recall for each clas\n",
    "    -calculating f1-score for each class\n",
    "    -combining the f1-scores\n",
    "    \n",
    "The last step can be taken in many ways:\n",
    "\n",
    "    1.Macro-F1: It is computed as a simple arithmetic mean of our per-class F1-scores\n",
    "    2.Weighted-F1: In this, we weight the F1-score of each class by the number of samples from that class.\n",
    "    3.micro-F1: We consider all the samples and (precision, recall, f1, and accuracy are equal in this method)\n",
    "    \n",
    "    \n",
    "**NOTE: The f1-score is calculated with the precision and recall generated through the aforementioned approaches.\n"
   ]
  },
  {
   "cell_type": "code",
   "execution_count": 126,
   "id": "98831eae",
   "metadata": {},
   "outputs": [
    {
     "data": {
      "image/png": "[encoded data removed]",
      "text/plain": [
       "<Figure size 432x288 with 1 Axes>"
      ]
     },
     "metadata": {
      "needs_background": "light"
     },
     "output_type": "display_data"
    },
    {
     "data": {
      "image/png": "[encoded data removed]",
      "text/plain": [
       "<Figure size 432x288 with 1 Axes>"
      ]
     },
     "metadata": {
      "needs_background": "light"
     },
     "output_type": "display_data"
    },
    {
     "data": {
      "image/png": "[encoded data removed]",
      "text/plain": [
       "<Figure size 432x288 with 1 Axes>"
      ]
     },
     "metadata": {
      "needs_background": "light"
     },
     "output_type": "display_data"
    },
    {
     "data": {
      "image/png": "[encoded data removed]",
      "text/plain": [
       "<Figure size 432x288 with 1 Axes>"
      ]
     },
     "metadata": {
      "needs_background": "light"
     },
     "output_type": "display_data"
    }
   ],
   "source": [
    "for i in range(4):\n",
    "    \n",
    "    d = dict(sorted(word_labels_dict.items(), key=lambda item: item[1][i], reverse=True)[0:4])\n",
    "    x = list(d.keys())\n",
    "    y = [d[label][i] for label in x]\n",
    "    plt.bar(x, y, color ='blue', width = 0.2)\n",
    "    plt.show()"
   ]
  },
  {
   "cell_type": "code",
   "execution_count": 230,
   "id": "0c495cbc",
   "metadata": {},
   "outputs": [],
   "source": [
    "output = o\n",
    "\n",
    "labels = get_labels(preprocessed_train_text)\n",
    "tp_dict = get_labels(preprocessed_train_text)\n",
    "fp_dict = get_labels(preprocessed_train_text)\n",
    "fn_dict = get_labels(preprocessed_train_text)\n",
    "precision_dict = get_labels(preprocessed_train_text)\n",
    "recall_dict = get_labels(preprocessed_train_text)\n",
    "f1_dict = get_labels(preprocessed_train_text)\n",
    "\n",
    "t = 0\n",
    "f = 0\n",
    "for i in range(len(preprocessed_test_text)):\n",
    "    \n",
    "    if preprocessed_test_text[i][0] == output[i]:\n",
    "        t += 1\n",
    "        tp_dict[output[i]] += 1\n",
    "    else:\n",
    "        f += 1\n",
    "        fp_dict[output[i]] += 1\n",
    "        fn_dict[preprocessed_test_text[i][0]] += 1    "
   ]
  },
  {
   "cell_type": "code",
   "execution_count": 231,
   "id": "eae1b8a1",
   "metadata": {},
   "outputs": [],
   "source": [
    "for label in labels:\n",
    "    \n",
    "    if (tp_dict[label] + fp_dict[label]) != 0:\n",
    "        precision_dict[label] = tp_dict[label] / (tp_dict[label] + fp_dict[label])\n",
    "        \n",
    "    if (fn_dict[label] + tp_dict[label]) != 0:\n",
    "        recall_dict[label] = tp_dict[label] / (fn_dict[label] + tp_dict[label])\n",
    "        \n",
    "    if (recall_dict[label] + precision_dict[label]) != 0:\n",
    "        f1_dict[label] = 2 * recall_dict[label] * precision_dict[label] / (recall_dict[label] + precision_dict[label])"
   ]
  },
  {
   "cell_type": "markdown",
   "id": "a558f290",
   "metadata": {},
   "source": [
    "#### Results with Smoothing"
   ]
  },
  {
   "cell_type": "code",
   "execution_count": 271,
   "id": "8f29e236",
   "metadata": {},
   "outputs": [
    {
     "name": "stdout",
     "output_type": "stream",
     "text": [
      "ACCURACY: 0.22069825436408977\n",
      "MACRO-F1: 0.23390774609268444\n",
      "Weighed-F1: 0.23390774609268444\n",
      "MiCRO-F1: 0.22069825436408977\n"
     ]
    }
   ],
   "source": [
    "mean_precision = mean(precision_dict.values())\n",
    "mean_recall = mean(recall_dict.values())\n",
    "macro_f1 = 2 * mean_precision * mean_recall / (mean_precision + mean_recall)\n",
    "\n",
    "wm_precision = 0\n",
    "wm_recall = 0\n",
    "\n",
    "for label in labels:\n",
    "    wm_precision += pr_label[label] * precision_dict[label]\n",
    "    wm_recall += pr_label[label] * recall_dict[label]\n",
    "\n",
    "weighed_f1 = 2 * wm_recall * wm_precision / (wm_recall + wm_precision) \n",
    "\n",
    "accuracy = t / (t + f)\n",
    "\n",
    "\n",
    "print('ACCURACY:', accuracy)\n",
    "print('MACRO-F1:', macro_f1)\n",
    "print('Weighed-F1:', weighed_f1)\n",
    "print('MiCRO-F1:', accuracy)"
   ]
  },
  {
   "cell_type": "code",
   "execution_count": 272,
   "id": "7075fb2d",
   "metadata": {},
   "outputs": [
    {
     "data": {
      "text/html": [
       "<div>\n",
       "<style scoped>\n",
       "    .dataframe tbody tr th:only-of-type {\n",
       "        vertical-align: middle;\n",
       "    }\n",
       "\n",
       "    .dataframe tbody tr th {\n",
       "        vertical-align: top;\n",
       "    }\n",
       "\n",
       "    .dataframe thead th {\n",
       "        text-align: right;\n",
       "    }\n",
       "</style>\n",
       "<table border=\"1\" class=\"dataframe\">\n",
       "  <thead>\n",
       "    <tr style=\"text-align: right;\">\n",
       "      <th></th>\n",
       "      <th>0</th>\n",
       "      <th>1</th>\n",
       "    </tr>\n",
       "  </thead>\n",
       "  <tbody>\n",
       "    <tr>\n",
       "      <th>0</th>\n",
       "      <td>هنر سینما</td>\n",
       "      <td>0.210458</td>\n",
       "    </tr>\n",
       "    <tr>\n",
       "      <th>1</th>\n",
       "      <td>علم تکنولوژی</td>\n",
       "      <td>0.483871</td>\n",
       "    </tr>\n",
       "    <tr>\n",
       "      <th>2</th>\n",
       "      <td>سلامت زیبایی</td>\n",
       "      <td>0.166667</td>\n",
       "    </tr>\n",
       "    <tr>\n",
       "      <th>3</th>\n",
       "      <td>بازی ویدیویی</td>\n",
       "      <td>0.000000</td>\n",
       "    </tr>\n",
       "  </tbody>\n",
       "</table>\n",
       "</div>"
      ],
      "text/plain": [
       "              0         1\n",
       "0     هنر سینما  0.210458\n",
       "1  علم تکنولوژی  0.483871\n",
       "2  سلامت زیبایی  0.166667\n",
       "3  بازی ویدیویی  0.000000"
      ]
     },
     "execution_count": 272,
     "metadata": {},
     "output_type": "execute_result"
    }
   ],
   "source": [
    "pd.DataFrame(list(precision_dict.items()))"
   ]
  },
  {
   "cell_type": "code",
   "execution_count": 273,
   "id": "4208d904",
   "metadata": {},
   "outputs": [
    {
     "data": {
      "text/html": [
       "<div>\n",
       "<style scoped>\n",
       "    .dataframe tbody tr th:only-of-type {\n",
       "        vertical-align: middle;\n",
       "    }\n",
       "\n",
       "    .dataframe tbody tr th {\n",
       "        vertical-align: top;\n",
       "    }\n",
       "\n",
       "    .dataframe thead th {\n",
       "        text-align: right;\n",
       "    }\n",
       "</style>\n",
       "<table border=\"1\" class=\"dataframe\">\n",
       "  <thead>\n",
       "    <tr style=\"text-align: right;\">\n",
       "      <th></th>\n",
       "      <th>0</th>\n",
       "      <th>1</th>\n",
       "    </tr>\n",
       "  </thead>\n",
       "  <tbody>\n",
       "    <tr>\n",
       "      <th>0</th>\n",
       "      <td>هنر سینما</td>\n",
       "      <td>0.964072</td>\n",
       "    </tr>\n",
       "    <tr>\n",
       "      <th>1</th>\n",
       "      <td>علم تکنولوژی</td>\n",
       "      <td>0.054152</td>\n",
       "    </tr>\n",
       "    <tr>\n",
       "      <th>2</th>\n",
       "      <td>سلامت زیبایی</td>\n",
       "      <td>0.006211</td>\n",
       "    </tr>\n",
       "    <tr>\n",
       "      <th>3</th>\n",
       "      <td>بازی ویدیویی</td>\n",
       "      <td>0.000000</td>\n",
       "    </tr>\n",
       "  </tbody>\n",
       "</table>\n",
       "</div>"
      ],
      "text/plain": [
       "              0         1\n",
       "0     هنر سینما  0.964072\n",
       "1  علم تکنولوژی  0.054152\n",
       "2  سلامت زیبایی  0.006211\n",
       "3  بازی ویدیویی  0.000000"
      ]
     },
     "execution_count": 273,
     "metadata": {},
     "output_type": "execute_result"
    }
   ],
   "source": [
    "pd.DataFrame(list(recall_dict.items()))"
   ]
  },
  {
   "cell_type": "code",
   "execution_count": 274,
   "id": "faf2e642",
   "metadata": {},
   "outputs": [
    {
     "data": {
      "text/html": [
       "<div>\n",
       "<style scoped>\n",
       "    .dataframe tbody tr th:only-of-type {\n",
       "        vertical-align: middle;\n",
       "    }\n",
       "\n",
       "    .dataframe tbody tr th {\n",
       "        vertical-align: top;\n",
       "    }\n",
       "\n",
       "    .dataframe thead th {\n",
       "        text-align: right;\n",
       "    }\n",
       "</style>\n",
       "<table border=\"1\" class=\"dataframe\">\n",
       "  <thead>\n",
       "    <tr style=\"text-align: right;\">\n",
       "      <th></th>\n",
       "      <th>0</th>\n",
       "      <th>1</th>\n",
       "    </tr>\n",
       "  </thead>\n",
       "  <tbody>\n",
       "    <tr>\n",
       "      <th>0</th>\n",
       "      <td>هنر سینما</td>\n",
       "      <td>0.345494</td>\n",
       "    </tr>\n",
       "    <tr>\n",
       "      <th>1</th>\n",
       "      <td>علم تکنولوژی</td>\n",
       "      <td>0.097403</td>\n",
       "    </tr>\n",
       "    <tr>\n",
       "      <th>2</th>\n",
       "      <td>سلامت زیبایی</td>\n",
       "      <td>0.011976</td>\n",
       "    </tr>\n",
       "    <tr>\n",
       "      <th>3</th>\n",
       "      <td>بازی ویدیویی</td>\n",
       "      <td>0.000000</td>\n",
       "    </tr>\n",
       "  </tbody>\n",
       "</table>\n",
       "</div>"
      ],
      "text/plain": [
       "              0         1\n",
       "0     هنر سینما  0.345494\n",
       "1  علم تکنولوژی  0.097403\n",
       "2  سلامت زیبایی  0.011976\n",
       "3  بازی ویدیویی  0.000000"
      ]
     },
     "execution_count": 274,
     "metadata": {},
     "output_type": "execute_result"
    }
   ],
   "source": [
    "pd.DataFrame(list(f1_dict.items()))"
   ]
  },
  {
   "cell_type": "markdown",
   "id": "051352f0",
   "metadata": {},
   "source": [
    "#### Results without smoothing "
   ]
  },
  {
   "cell_type": "code",
   "execution_count": 232,
   "id": "2c6cc550",
   "metadata": {},
   "outputs": [
    {
     "name": "stdout",
     "output_type": "stream",
     "text": [
      "ACCURACY: 0.22069825436408977\n",
      "MACRO-F1: 0.23390774609268444\n",
      "Weighed-F1: 0.23390774609268444\n",
      "MiCRO-F1: 0.22069825436408977\n"
     ]
    }
   ],
   "source": [
    "mean_precision = mean(precision_dict.values())\n",
    "mean_recall = mean(recall_dict.values())\n",
    "macro_f1 = 2 * mean_precision * mean_recall / (mean_precision + mean_recall)\n",
    "\n",
    "wm_precision = 0\n",
    "wm_recall = 0\n",
    "\n",
    "for label in labels:\n",
    "    wm_precision += pr_label[label] * precision_dict[label]\n",
    "    wm_recall += pr_label[label] * recall_dict[label]\n",
    "\n",
    "weighed_f1 = 2 * wm_recall * wm_precision / (wm_recall + wm_precision) \n",
    "\n",
    "accuracy = t / (t + f)\n",
    "\n",
    "\n",
    "print('ACCURACY:', accuracy)\n",
    "print('MACRO-F1:', macro_f1)\n",
    "print('Weighed-F1:', weighed_f1)\n",
    "print('MiCRO-F1:', accuracy)"
   ]
  },
  {
   "cell_type": "code",
   "execution_count": 234,
   "id": "d0895c37",
   "metadata": {},
   "outputs": [
    {
     "data": {
      "text/html": [
       "<div>\n",
       "<style scoped>\n",
       "    .dataframe tbody tr th:only-of-type {\n",
       "        vertical-align: middle;\n",
       "    }\n",
       "\n",
       "    .dataframe tbody tr th {\n",
       "        vertical-align: top;\n",
       "    }\n",
       "\n",
       "    .dataframe thead th {\n",
       "        text-align: right;\n",
       "    }\n",
       "</style>\n",
       "<table border=\"1\" class=\"dataframe\">\n",
       "  <thead>\n",
       "    <tr style=\"text-align: right;\">\n",
       "      <th></th>\n",
       "      <th>0</th>\n",
       "      <th>1</th>\n",
       "    </tr>\n",
       "  </thead>\n",
       "  <tbody>\n",
       "    <tr>\n",
       "      <th>0</th>\n",
       "      <td>هنر سینما</td>\n",
       "      <td>0.210458</td>\n",
       "    </tr>\n",
       "    <tr>\n",
       "      <th>1</th>\n",
       "      <td>علم تکنولوژی</td>\n",
       "      <td>0.483871</td>\n",
       "    </tr>\n",
       "    <tr>\n",
       "      <th>2</th>\n",
       "      <td>سلامت زیبایی</td>\n",
       "      <td>0.166667</td>\n",
       "    </tr>\n",
       "    <tr>\n",
       "      <th>3</th>\n",
       "      <td>بازی ویدیویی</td>\n",
       "      <td>0.000000</td>\n",
       "    </tr>\n",
       "  </tbody>\n",
       "</table>\n",
       "</div>"
      ],
      "text/plain": [
       "              0         1\n",
       "0     هنر سینما  0.210458\n",
       "1  علم تکنولوژی  0.483871\n",
       "2  سلامت زیبایی  0.166667\n",
       "3  بازی ویدیویی  0.000000"
      ]
     },
     "execution_count": 234,
     "metadata": {},
     "output_type": "execute_result"
    }
   ],
   "source": [
    "pd.DataFrame(list(precision_dict.items()))"
   ]
  },
  {
   "cell_type": "code",
   "execution_count": 235,
   "id": "197629ce",
   "metadata": {},
   "outputs": [
    {
     "data": {
      "text/html": [
       "<div>\n",
       "<style scoped>\n",
       "    .dataframe tbody tr th:only-of-type {\n",
       "        vertical-align: middle;\n",
       "    }\n",
       "\n",
       "    .dataframe tbody tr th {\n",
       "        vertical-align: top;\n",
       "    }\n",
       "\n",
       "    .dataframe thead th {\n",
       "        text-align: right;\n",
       "    }\n",
       "</style>\n",
       "<table border=\"1\" class=\"dataframe\">\n",
       "  <thead>\n",
       "    <tr style=\"text-align: right;\">\n",
       "      <th></th>\n",
       "      <th>0</th>\n",
       "      <th>1</th>\n",
       "    </tr>\n",
       "  </thead>\n",
       "  <tbody>\n",
       "    <tr>\n",
       "      <th>0</th>\n",
       "      <td>هنر سینما</td>\n",
       "      <td>0.964072</td>\n",
       "    </tr>\n",
       "    <tr>\n",
       "      <th>1</th>\n",
       "      <td>علم تکنولوژی</td>\n",
       "      <td>0.054152</td>\n",
       "    </tr>\n",
       "    <tr>\n",
       "      <th>2</th>\n",
       "      <td>سلامت زیبایی</td>\n",
       "      <td>0.006211</td>\n",
       "    </tr>\n",
       "    <tr>\n",
       "      <th>3</th>\n",
       "      <td>بازی ویدیویی</td>\n",
       "      <td>0.000000</td>\n",
       "    </tr>\n",
       "  </tbody>\n",
       "</table>\n",
       "</div>"
      ],
      "text/plain": [
       "              0         1\n",
       "0     هنر سینما  0.964072\n",
       "1  علم تکنولوژی  0.054152\n",
       "2  سلامت زیبایی  0.006211\n",
       "3  بازی ویدیویی  0.000000"
      ]
     },
     "execution_count": 235,
     "metadata": {},
     "output_type": "execute_result"
    }
   ],
   "source": [
    "pd.DataFrame(list(recall_dict.items()))"
   ]
  },
  {
   "cell_type": "code",
   "execution_count": 236,
   "id": "35942f94",
   "metadata": {},
   "outputs": [
    {
     "data": {
      "text/html": [
       "<div>\n",
       "<style scoped>\n",
       "    .dataframe tbody tr th:only-of-type {\n",
       "        vertical-align: middle;\n",
       "    }\n",
       "\n",
       "    .dataframe tbody tr th {\n",
       "        vertical-align: top;\n",
       "    }\n",
       "\n",
       "    .dataframe thead th {\n",
       "        text-align: right;\n",
       "    }\n",
       "</style>\n",
       "<table border=\"1\" class=\"dataframe\">\n",
       "  <thead>\n",
       "    <tr style=\"text-align: right;\">\n",
       "      <th></th>\n",
       "      <th>0</th>\n",
       "      <th>1</th>\n",
       "    </tr>\n",
       "  </thead>\n",
       "  <tbody>\n",
       "    <tr>\n",
       "      <th>0</th>\n",
       "      <td>هنر سینما</td>\n",
       "      <td>0.345494</td>\n",
       "    </tr>\n",
       "    <tr>\n",
       "      <th>1</th>\n",
       "      <td>علم تکنولوژی</td>\n",
       "      <td>0.097403</td>\n",
       "    </tr>\n",
       "    <tr>\n",
       "      <th>2</th>\n",
       "      <td>سلامت زیبایی</td>\n",
       "      <td>0.011976</td>\n",
       "    </tr>\n",
       "    <tr>\n",
       "      <th>3</th>\n",
       "      <td>بازی ویدیویی</td>\n",
       "      <td>0.000000</td>\n",
       "    </tr>\n",
       "  </tbody>\n",
       "</table>\n",
       "</div>"
      ],
      "text/plain": [
       "              0         1\n",
       "0     هنر سینما  0.345494\n",
       "1  علم تکنولوژی  0.097403\n",
       "2  سلامت زیبایی  0.011976\n",
       "3  بازی ویدیویی  0.000000"
      ]
     },
     "execution_count": 236,
     "metadata": {},
     "output_type": "execute_result"
    }
   ],
   "source": [
    "pd.DataFrame(list(f1_dict.items()))"
   ]
  },
  {
   "cell_type": "markdown",
   "id": "96a4eead",
   "metadata": {},
   "source": [
    "####  Conclusion\n",
    "\n",
    "Though many approaching on various levels have been tried, our model is incapable of predicting the labels and is performing poorly. This is most probably due to a mistake in calculating the bayas theorm's formula. Different preprocessing methods have been tested. Amongst them was using lemmatizing, stemming, fixing the spaces between words, normalzing the values, .... In the end, not using the lemmatizing and stemming parts proved a small improvement in the model. For filtering the stopwords, a combination of the stopwords imported from Hazm and the 13 most frequent words in the train data had the best results.\n",
    "\n",
    "Unfortunately, even though the most frequent words of each label seem to be logically detected, the overall model does not operate as expected. Still, we see a slight improvement with the use of additive smoothing."
   ]
  }
 ],
 "metadata": {
  "kernelspec": {
   "display_name": "Python 3",
   "language": "python",
   "name": "python3"
  },
  "language_info": {
   "codemirror_mode": {
    "name": "ipython",
    "version": 3
   },
   "file_extension": ".py",
   "mimetype": "text/x-python",
   "name": "python",
   "nbconvert_exporter": "python",
   "pygments_lexer": "ipython3",
   "version": "3.8.3"
  }
 },
 "nbformat": 4,
 "nbformat_minor": 5
}
